{
 "cells": [
  {
   "cell_type": "markdown",
   "id": "ff0f5347-2720-4997-bbb7-f2c58bb48526",
   "metadata": {},
   "source": [
    "## Bag Of Words"
   ]
  },
  {
   "cell_type": "code",
   "execution_count": 2,
   "id": "3a9c7f18-bd08-4286-bde7-e1093e4b24a4",
   "metadata": {},
   "outputs": [],
   "source": [
    "import numpy as np\n",
    "import pandas as pd \n",
    "from sklearn.feature_extraction.text import CountVectorizer"
   ]
  },
  {
   "cell_type": "code",
   "execution_count": 3,
   "id": "ef680e0e-d64a-4053-a6b1-89084049c8e6",
   "metadata": {},
   "outputs": [],
   "source": [
    "## Create DataFrame"
   ]
  },
  {
   "cell_type": "code",
   "execution_count": 4,
   "id": "541573c7-8c5f-4f18-9768-e696bc8ff9c0",
   "metadata": {},
   "outputs": [],
   "source": [
    "df = pd.DataFrame({'text':['People Watch Monkeys','Monkeys Watch Monkeys','Monkeys Jumping On Elephent','Elephent Sleeping'],'output':[1,1,0,0]})"
   ]
  },
  {
   "cell_type": "code",
   "execution_count": 5,
   "id": "92a45746-fc75-4732-a58e-90c2b7cb4e18",
   "metadata": {},
   "outputs": [
    {
     "data": {
      "text/html": [
       "<div>\n",
       "<style scoped>\n",
       "    .dataframe tbody tr th:only-of-type {\n",
       "        vertical-align: middle;\n",
       "    }\n",
       "\n",
       "    .dataframe tbody tr th {\n",
       "        vertical-align: top;\n",
       "    }\n",
       "\n",
       "    .dataframe thead th {\n",
       "        text-align: right;\n",
       "    }\n",
       "</style>\n",
       "<table border=\"1\" class=\"dataframe\">\n",
       "  <thead>\n",
       "    <tr style=\"text-align: right;\">\n",
       "      <th></th>\n",
       "      <th>text</th>\n",
       "      <th>output</th>\n",
       "    </tr>\n",
       "  </thead>\n",
       "  <tbody>\n",
       "    <tr>\n",
       "      <th>0</th>\n",
       "      <td>People Watch Monkeys</td>\n",
       "      <td>1</td>\n",
       "    </tr>\n",
       "    <tr>\n",
       "      <th>1</th>\n",
       "      <td>Monkeys Watch Monkeys</td>\n",
       "      <td>1</td>\n",
       "    </tr>\n",
       "    <tr>\n",
       "      <th>2</th>\n",
       "      <td>Monkeys Jumping On Elephent</td>\n",
       "      <td>0</td>\n",
       "    </tr>\n",
       "    <tr>\n",
       "      <th>3</th>\n",
       "      <td>Elephent Sleeping</td>\n",
       "      <td>0</td>\n",
       "    </tr>\n",
       "  </tbody>\n",
       "</table>\n",
       "</div>"
      ],
      "text/plain": [
       "                          text  output\n",
       "0         People Watch Monkeys       1\n",
       "1        Monkeys Watch Monkeys       1\n",
       "2  Monkeys Jumping On Elephent       0\n",
       "3            Elephent Sleeping       0"
      ]
     },
     "execution_count": 5,
     "metadata": {},
     "output_type": "execute_result"
    }
   ],
   "source": [
    "df"
   ]
  },
  {
   "cell_type": "code",
   "execution_count": 6,
   "id": "9afc738d-2da4-4f35-b9bc-375f8e68af29",
   "metadata": {},
   "outputs": [],
   "source": [
    "cv = CountVectorizer()"
   ]
  },
  {
   "cell_type": "code",
   "execution_count": 7,
   "id": "aa54b0b7-9594-4774-a5de-31c007b7621e",
   "metadata": {},
   "outputs": [],
   "source": [
    "bow = cv.fit_transform(df['text'])"
   ]
  },
  {
   "cell_type": "code",
   "execution_count": 8,
   "id": "bd016681-346b-4a15-97cd-243c30979b45",
   "metadata": {},
   "outputs": [
    {
     "data": {
      "text/plain": [
       "{'people': 4,\n",
       " 'watch': 6,\n",
       " 'monkeys': 2,\n",
       " 'jumping': 1,\n",
       " 'on': 3,\n",
       " 'elephent': 0,\n",
       " 'sleeping': 5}"
      ]
     },
     "execution_count": 8,
     "metadata": {},
     "output_type": "execute_result"
    }
   ],
   "source": [
    "# Here Vocabulary is created \n",
    "\n",
    "cv.vocabulary_"
   ]
  },
  {
   "cell_type": "code",
   "execution_count": 9,
   "id": "89bcc5ef-bfbf-421f-8ea2-d6e10d39b845",
   "metadata": {},
   "outputs": [
    {
     "name": "stdout",
     "output_type": "stream",
     "text": [
      "[[0 0 1 0 1 0 1]]\n",
      "[[0 0 2 0 0 0 1]]\n"
     ]
    }
   ],
   "source": [
    "print(bow[0].toarray())\n",
    "print(bow[1].toarray())"
   ]
  },
  {
   "cell_type": "markdown",
   "id": "a2d47af1-c969-43ef-94be-c69634093daf",
   "metadata": {},
   "source": [
    "# N_grams"
   ]
  },
  {
   "cell_type": "code",
   "execution_count": 10,
   "id": "74b50043-19b8-499c-82aa-8b8d3efaf3dd",
   "metadata": {},
   "outputs": [],
   "source": [
    "## Bag Of word Bi-Gram\n",
    "\n",
    "cv_bi_grams = CountVectorizer(ngram_range=(2,2))"
   ]
  },
  {
   "cell_type": "code",
   "execution_count": 11,
   "id": "6ecfa533-8104-46f3-b54b-3a377b34aec9",
   "metadata": {},
   "outputs": [],
   "source": [
    "bi_gram = cv_bi_grams.fit_transform(df['text'])"
   ]
  },
  {
   "cell_type": "code",
   "execution_count": 12,
   "id": "c71b86fa-8d00-4935-b1b0-d6dc390d65cd",
   "metadata": {},
   "outputs": [
    {
     "data": {
      "text/plain": [
       "{'people watch': 5,\n",
       " 'watch monkeys': 6,\n",
       " 'monkeys watch': 3,\n",
       " 'monkeys jumping': 2,\n",
       " 'jumping on': 1,\n",
       " 'on elephent': 4,\n",
       " 'elephent sleeping': 0}"
      ]
     },
     "execution_count": 12,
     "metadata": {},
     "output_type": "execute_result"
    }
   ],
   "source": [
    "cv_bi_grams.vocabulary_"
   ]
  },
  {
   "cell_type": "code",
   "execution_count": 13,
   "id": "a069c96b-e8b1-409b-889f-b6ac7f6e559a",
   "metadata": {},
   "outputs": [],
   "source": [
    "## Bag Of word Tri-Gram\n",
    "\n",
    "cv_tri_grams = CountVectorizer(ngram_range=(3,3))"
   ]
  },
  {
   "cell_type": "code",
   "execution_count": 14,
   "id": "39d9f52f-08d8-4ae6-945a-ef3e086bc5d1",
   "metadata": {},
   "outputs": [],
   "source": [
    "tri_gram = cv_tri_grams.fit_transform(df['text'])"
   ]
  },
  {
   "cell_type": "code",
   "execution_count": 15,
   "id": "e9260231-a0d6-45c6-869f-93f790bcb59b",
   "metadata": {},
   "outputs": [
    {
     "data": {
      "text/plain": [
       "{'people watch monkeys': 3,\n",
       " 'monkeys watch monkeys': 2,\n",
       " 'monkeys jumping on': 1,\n",
       " 'jumping on elephent': 0}"
      ]
     },
     "execution_count": 15,
     "metadata": {},
     "output_type": "execute_result"
    }
   ],
   "source": [
    "cv_tri_grams.vocabulary_"
   ]
  },
  {
   "cell_type": "markdown",
   "id": "08144a2e-29cf-4ba9-bb75-f963348ed1e3",
   "metadata": {},
   "source": [
    "## TF-IDF"
   ]
  },
  {
   "cell_type": "markdown",
   "id": "a253d192-c602-4d92-8116-03488823109f",
   "metadata": {},
   "source": [
    "How TF-IDF Count"
   ]
  },
  {
   "attachments": {
    "dfc4e134-5105-4d27-8eb7-aed64396b8b3.png": {
     "image/png": "[encoded data removed]"
    }
   },
   "cell_type": "markdown",
   "id": "ea745695-600d-428c-a46d-6b2662e91116",
   "metadata": {},
   "source": [
    "![tfidf.png](attachment:dfc4e134-5105-4d27-8eb7-aed64396b8b3.png)"
   ]
  },
  {
   "cell_type": "code",
   "execution_count": 18,
   "id": "74224640-2e43-4f9b-9a98-efea07ff8779",
   "metadata": {},
   "outputs": [],
   "source": [
    "from sklearn.feature_extraction.text import TfidfVectorizer"
   ]
  },
  {
   "cell_type": "code",
   "execution_count": 19,
   "id": "3bbaa80a-c1a8-4c79-8afc-0027c2148759",
   "metadata": {},
   "outputs": [],
   "source": [
    "tfidf = TfidfVectorizer()"
   ]
  },
  {
   "cell_type": "code",
   "execution_count": 20,
   "id": "9c955c94-4f17-4bc0-9d0f-0b6448648a78",
   "metadata": {},
   "outputs": [
    {
     "data": {
      "text/plain": [
       "array([[0.        , 0.        , 0.44809973, 0.        , 0.70203482,\n",
       "        0.        , 0.55349232],\n",
       "       [0.        , 0.        , 0.8508161 , 0.        , 0.        ,\n",
       "        0.        , 0.52546357],\n",
       "       [0.4530051 , 0.57457953, 0.36674667, 0.57457953, 0.        ,\n",
       "        0.        , 0.        ],\n",
       "       [0.6191303 , 0.        , 0.        , 0.        , 0.        ,\n",
       "        0.78528828, 0.        ]])"
      ]
     },
     "execution_count": 20,
     "metadata": {},
     "output_type": "execute_result"
    }
   ],
   "source": [
    "tfidf.fit_transform(df['text']).toarray()"
   ]
  },
  {
   "cell_type": "code",
   "execution_count": 23,
   "id": "57142dc5-3865-4cd9-bdd9-7c083e4aecce",
   "metadata": {},
   "outputs": [
    {
     "name": "stdout",
     "output_type": "stream",
     "text": [
      "[1.51082562 1.91629073 1.22314355 1.91629073 1.91629073 1.91629073\n",
      " 1.51082562]\n",
      "['elephent' 'jumping' 'monkeys' 'on' 'people' 'sleeping' 'watch']\n"
     ]
    }
   ],
   "source": [
    "print(tfidf.idf_)\n",
    "print(tfidf.get_feature_names_out())"
   ]
  },
  {
   "cell_type": "code",
   "execution_count": null,
   "id": "7017e7a9-6502-400b-a096-1e0b755c9fb0",
   "metadata": {},
   "outputs": [],
   "source": []
  }
 ],
 "metadata": {
  "kernelspec": {
   "display_name": "Python 3 (ipykernel)",
   "language": "python",
   "name": "python3"
  },
  "language_info": {
   "codemirror_mode": {
    "name": "ipython",
    "version": 3
   },
   "file_extension": ".py",
   "mimetype": "text/x-python",
   "name": "python",
   "nbconvert_exporter": "python",
   "pygments_lexer": "ipython3",
   "version": "3.11.7"
  }
 },
 "nbformat": 4,
 "nbformat_minor": 5
}
