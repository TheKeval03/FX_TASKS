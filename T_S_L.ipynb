{
 "cells": [
  {
   "cell_type": "markdown",
   "id": "9a02a20f-c0d2-4aba-a8af-ce3d6010a993",
   "metadata": {},
   "source": [
    "## Text Preprocessing"
   ]
  },
  {
   "cell_type": "code",
   "execution_count": 1,
   "id": "b58c8ed9-91e2-4604-bda4-a044051fab89",
   "metadata": {},
   "outputs": [],
   "source": [
    "text = \"\"\"Lorem Ipsum is simply dummy text of the printing and typesetting industry. \n",
    "        Lorem Ipsum has been the industry's standard dummy text ever since the 1500s, \n",
    "        when an unknown printer took a galley of type and scrambled it to make a type specimen book. \n",
    "        It has survived not only five centuries, but also the leap into electronic typesetting, remaining essentially unchanged. \n",
    "        It was popularised in the 1960s with the release of Letraset sheets containing Lorem Ipsum passages, \n",
    "        and more recently with desktop publishing software like Aldus PageMaker including versions of Lorem Ipsum.\"\"\""
   ]
  },
  {
   "cell_type": "code",
   "execution_count": 2,
   "id": "ce7d8be5-f725-43d9-822f-3eaa2ded229a",
   "metadata": {},
   "outputs": [],
   "source": [
    "## Required Liabraries\n",
    "\n",
    "import nltk\n",
    "from nltk.stem import WordNetLemmatizer\n",
    "from nltk.corpus import wordnet\n",
    "from nltk.tokenize import word_tokenize,sent_tokenize"
   ]
  },
  {
   "cell_type": "code",
   "execution_count": 3,
   "id": "ff9177a1-9571-4113-acf0-abf0cc192085",
   "metadata": {},
   "outputs": [
    {
     "data": {
      "text/plain": [
       "\"Lorem Ipsum is simply dummy text of the printing and typesetting industry. \\n        Lorem Ipsum has been the industry's standard dummy text ever since the 1500s, \\n        when an unknown printer took a galley of type and scrambled it to make a type specimen book. \\n        It has survived not only five centuries, but also the leap into electronic typesetting, remaining essentially unchanged. \\n        It was popularised in the 1960s with the release of Letraset sheets containing Lorem Ipsum passages, \\n        and more recently with desktop publishing software like Aldus PageMaker including versions of Lorem Ipsum.\""
      ]
     },
     "execution_count": 3,
     "metadata": {},
     "output_type": "execute_result"
    }
   ],
   "source": [
    "text"
   ]
  },
  {
   "cell_type": "markdown",
   "id": "a02b547d-3a6c-4f11-bfda-3757c9fae561",
   "metadata": {},
   "source": [
    "## Tokenization Using NLTK"
   ]
  },
  {
   "cell_type": "markdown",
   "id": "7269d014-5b45-4cd4-8131-edc3b6cd403c",
   "metadata": {},
   "source": [
    "Tokenizing : process of breaking down a text into smaller units called tokens."
   ]
  },
  {
   "cell_type": "code",
   "execution_count": 4,
   "id": "b9e8aa23-97c8-4448-be48-b9c4d3533c86",
   "metadata": {},
   "outputs": [
    {
     "name": "stderr",
     "output_type": "stream",
     "text": [
      "[nltk_data] Downloading package punkt to\n",
      "[nltk_data]     C:\\Users\\Keval\\AppData\\Roaming\\nltk_data...\n",
      "[nltk_data]   Package punkt is already up-to-date!\n"
     ]
    },
    {
     "data": {
      "text/plain": [
       "True"
      ]
     },
     "execution_count": 4,
     "metadata": {},
     "output_type": "execute_result"
    }
   ],
   "source": [
    "nltk.download('punkt')"
   ]
  },
  {
   "cell_type": "code",
   "execution_count": 5,
   "id": "ea6e08be-d6c5-4a11-932b-7b605afa2f77",
   "metadata": {},
   "outputs": [],
   "source": [
    "sentance = \"Lorem Ipsum is simply dummy text of the printing and typesetting industry.\""
   ]
  },
  {
   "cell_type": "code",
   "execution_count": 6,
   "id": "674105d0-bcfc-4eb9-a473-741bf67689f3",
   "metadata": {},
   "outputs": [
    {
     "data": {
      "text/plain": [
       "['Lorem',\n",
       " 'Ipsum',\n",
       " 'is',\n",
       " 'simply',\n",
       " 'dummy',\n",
       " 'text',\n",
       " 'of',\n",
       " 'the',\n",
       " 'printing',\n",
       " 'and',\n",
       " 'typesetting',\n",
       " 'industry',\n",
       " '.']"
      ]
     },
     "execution_count": 6,
     "metadata": {},
     "output_type": "execute_result"
    }
   ],
   "source": [
    "word_tokenize(sentance)"
   ]
  },
  {
   "cell_type": "code",
   "execution_count": 7,
   "id": "33713347-9441-4fcd-9020-654f3ee00655",
   "metadata": {},
   "outputs": [],
   "source": [
    "words = word_tokenize(text)"
   ]
  },
  {
   "cell_type": "code",
   "execution_count": 8,
   "id": "0df70072-40c9-443c-bcb8-d99c8ce147f5",
   "metadata": {},
   "outputs": [
    {
     "data": {
      "text/plain": [
       "['Lorem',\n",
       " 'Ipsum',\n",
       " 'is',\n",
       " 'simply',\n",
       " 'dummy',\n",
       " 'text',\n",
       " 'of',\n",
       " 'the',\n",
       " 'printing',\n",
       " 'and',\n",
       " 'typesetting',\n",
       " 'industry',\n",
       " '.',\n",
       " 'Lorem',\n",
       " 'Ipsum',\n",
       " 'has',\n",
       " 'been',\n",
       " 'the',\n",
       " 'industry',\n",
       " \"'s\",\n",
       " 'standard',\n",
       " 'dummy',\n",
       " 'text',\n",
       " 'ever',\n",
       " 'since',\n",
       " 'the',\n",
       " '1500s',\n",
       " ',',\n",
       " 'when',\n",
       " 'an',\n",
       " 'unknown',\n",
       " 'printer',\n",
       " 'took',\n",
       " 'a',\n",
       " 'galley',\n",
       " 'of',\n",
       " 'type',\n",
       " 'and',\n",
       " 'scrambled',\n",
       " 'it',\n",
       " 'to',\n",
       " 'make',\n",
       " 'a',\n",
       " 'type',\n",
       " 'specimen',\n",
       " 'book',\n",
       " '.',\n",
       " 'It',\n",
       " 'has',\n",
       " 'survived',\n",
       " 'not',\n",
       " 'only',\n",
       " 'five',\n",
       " 'centuries',\n",
       " ',',\n",
       " 'but',\n",
       " 'also',\n",
       " 'the',\n",
       " 'leap',\n",
       " 'into',\n",
       " 'electronic',\n",
       " 'typesetting',\n",
       " ',',\n",
       " 'remaining',\n",
       " 'essentially',\n",
       " 'unchanged',\n",
       " '.',\n",
       " 'It',\n",
       " 'was',\n",
       " 'popularised',\n",
       " 'in',\n",
       " 'the',\n",
       " '1960s',\n",
       " 'with',\n",
       " 'the',\n",
       " 'release',\n",
       " 'of',\n",
       " 'Letraset',\n",
       " 'sheets',\n",
       " 'containing',\n",
       " 'Lorem',\n",
       " 'Ipsum',\n",
       " 'passages',\n",
       " ',',\n",
       " 'and',\n",
       " 'more',\n",
       " 'recently',\n",
       " 'with',\n",
       " 'desktop',\n",
       " 'publishing',\n",
       " 'software',\n",
       " 'like',\n",
       " 'Aldus',\n",
       " 'PageMaker',\n",
       " 'including',\n",
       " 'versions',\n",
       " 'of',\n",
       " 'Lorem',\n",
       " 'Ipsum',\n",
       " '.']"
      ]
     },
     "execution_count": 8,
     "metadata": {},
     "output_type": "execute_result"
    }
   ],
   "source": [
    "words"
   ]
  },
  {
   "cell_type": "markdown",
   "id": "ed58701b-4943-4c80-bb01-e5b42f364ff7",
   "metadata": {},
   "source": [
    "## Stemming"
   ]
  },
  {
   "cell_type": "markdown",
   "id": "d9113252-5c99-47dd-9918-be801c51f5c0",
   "metadata": {},
   "source": [
    "Stemming : process of reducing words to their base or root form.\n",
    "\n",
    "Rule_of_Stemming :- While stemming focuses on cutting off prefixes or suffixes to achieve the root form.\r\n",
    "\r\n"
   ]
  },
  {
   "cell_type": "markdown",
   "id": "ceab318f-c8c6-4b19-a255-cd847baa43e5",
   "metadata": {},
   "source": [
    "# Here is stemming apply on list "
   ]
  },
  {
   "cell_type": "code",
   "execution_count": 9,
   "id": "bebb092f-c083-4ede-b890-cdad64d96d29",
   "metadata": {},
   "outputs": [],
   "source": [
    "from nltk.stem.porter import PorterStemmer "
   ]
  },
  {
   "cell_type": "code",
   "execution_count": 10,
   "id": "390ca020-e8a3-4f20-93b5-8a2266a7a416",
   "metadata": {},
   "outputs": [],
   "source": [
    "ps = PorterStemmer()\n",
    "stemmed_words = [ps.stem(word) for word in words]"
   ]
  },
  {
   "cell_type": "code",
   "execution_count": 11,
   "id": "a14f68a3-618e-4acb-8e0b-6c07f34a56a5",
   "metadata": {},
   "outputs": [
    {
     "data": {
      "text/plain": [
       "['lorem',\n",
       " 'ipsum',\n",
       " 'is',\n",
       " 'simpli',\n",
       " 'dummi',\n",
       " 'text',\n",
       " 'of',\n",
       " 'the',\n",
       " 'print',\n",
       " 'and',\n",
       " 'typeset',\n",
       " 'industri',\n",
       " '.',\n",
       " 'lorem',\n",
       " 'ipsum',\n",
       " 'ha',\n",
       " 'been',\n",
       " 'the',\n",
       " 'industri',\n",
       " \"'s\",\n",
       " 'standard',\n",
       " 'dummi',\n",
       " 'text',\n",
       " 'ever',\n",
       " 'sinc',\n",
       " 'the',\n",
       " '1500',\n",
       " ',',\n",
       " 'when',\n",
       " 'an',\n",
       " 'unknown',\n",
       " 'printer',\n",
       " 'took',\n",
       " 'a',\n",
       " 'galley',\n",
       " 'of',\n",
       " 'type',\n",
       " 'and',\n",
       " 'scrambl',\n",
       " 'it',\n",
       " 'to',\n",
       " 'make',\n",
       " 'a',\n",
       " 'type',\n",
       " 'specimen',\n",
       " 'book',\n",
       " '.',\n",
       " 'it',\n",
       " 'ha',\n",
       " 'surviv',\n",
       " 'not',\n",
       " 'onli',\n",
       " 'five',\n",
       " 'centuri',\n",
       " ',',\n",
       " 'but',\n",
       " 'also',\n",
       " 'the',\n",
       " 'leap',\n",
       " 'into',\n",
       " 'electron',\n",
       " 'typeset',\n",
       " ',',\n",
       " 'remain',\n",
       " 'essenti',\n",
       " 'unchang',\n",
       " '.',\n",
       " 'it',\n",
       " 'wa',\n",
       " 'popularis',\n",
       " 'in',\n",
       " 'the',\n",
       " '1960',\n",
       " 'with',\n",
       " 'the',\n",
       " 'releas',\n",
       " 'of',\n",
       " 'letraset',\n",
       " 'sheet',\n",
       " 'contain',\n",
       " 'lorem',\n",
       " 'ipsum',\n",
       " 'passag',\n",
       " ',',\n",
       " 'and',\n",
       " 'more',\n",
       " 'recent',\n",
       " 'with',\n",
       " 'desktop',\n",
       " 'publish',\n",
       " 'softwar',\n",
       " 'like',\n",
       " 'aldu',\n",
       " 'pagemak',\n",
       " 'includ',\n",
       " 'version',\n",
       " 'of',\n",
       " 'lorem',\n",
       " 'ipsum',\n",
       " '.']"
      ]
     },
     "execution_count": 11,
     "metadata": {},
     "output_type": "execute_result"
    }
   ],
   "source": [
    "stemmed_words"
   ]
  },
  {
   "cell_type": "markdown",
   "id": "f2eab097-076b-47ac-ae26-e452aa8a4ecf",
   "metadata": {},
   "source": [
    "# Here Stemming apply on Text or paragraph "
   ]
  },
  {
   "cell_type": "code",
   "execution_count": 12,
   "id": "b37ee1bb-e2bd-422e-a6d2-4e88385fe8ee",
   "metadata": {},
   "outputs": [
    {
     "data": {
      "text/plain": [
       "\"Lorem Ipsum is simply dummy text of the printing and typesetting industry. \\n        Lorem Ipsum has been the industry's standard dummy text ever since the 1500s, \\n        when an unknown printer took a galley of type and scrambled it to make a type specimen book. \\n        It has survived not only five centuries, but also the leap into electronic typesetting, remaining essentially unchanged. \\n        It was popularised in the 1960s with the release of Letraset sheets containing Lorem Ipsum passages, \\n        and more recently with desktop publishing software like Aldus PageMaker including versions of Lorem Ipsum.\""
      ]
     },
     "execution_count": 12,
     "metadata": {},
     "output_type": "execute_result"
    }
   ],
   "source": [
    "text"
   ]
  },
  {
   "cell_type": "code",
   "execution_count": 13,
   "id": "5e81a56a-0062-42ea-a395-88ca915fb46f",
   "metadata": {},
   "outputs": [],
   "source": [
    "def stem_paragraph(paragraph):\n",
    "    # Create an instance of the PorterStemmer\n",
    "    ps = PorterStemmer()\n",
    "    \n",
    "    # Tokenize the paragraph into words\n",
    "    words = word_tokenize(paragraph)\n",
    "    \n",
    "    # Stem each word in the list\n",
    "    stemmed_words = [ps.stem(word) for word in words]\n",
    "    \n",
    "    # Reconstruct the paragraph from the stemmed words\n",
    "    stemmed_paragraph = ' '.join(stemmed_words)\n",
    "    \n",
    "    return stemmed_paragraph"
   ]
  },
  {
   "cell_type": "code",
   "execution_count": 14,
   "id": "0e26599c-20db-4631-a41b-af269fde8c8d",
   "metadata": {},
   "outputs": [
    {
     "data": {
      "text/plain": [
       "\"lorem ipsum is simpli dummi text of the print and typeset industri . lorem ipsum ha been the industri 's standard dummi text ever sinc the 1500 , when an unknown printer took a galley of type and scrambl it to make a type specimen book . it ha surviv not onli five centuri , but also the leap into electron typeset , remain essenti unchang . it wa popularis in the 1960 with the releas of letraset sheet contain lorem ipsum passag , and more recent with desktop publish softwar like aldu pagemak includ version of lorem ipsum .\""
      ]
     },
     "execution_count": 14,
     "metadata": {},
     "output_type": "execute_result"
    }
   ],
   "source": [
    "stem_paragraph(text)"
   ]
  },
  {
   "cell_type": "code",
   "execution_count": 15,
   "id": "b56fb33e-1024-4676-be99-6b1609d0e269",
   "metadata": {},
   "outputs": [
    {
     "data": {
      "text/plain": [
       "\"Lorem Ipsum is simply dummy text of the printing and typesetting industry. \\n        Lorem Ipsum has been the industry's standard dummy text ever since the 1500s, \\n        when an unknown printer took a galley of type and scrambled it to make a type specimen book. \\n        It has survived not only five centuries, but also the leap into electronic typesetting, remaining essentially unchanged. \\n        It was popularised in the 1960s with the release of Letraset sheets containing Lorem Ipsum passages, \\n        and more recently with desktop publishing software like Aldus PageMaker including versions of Lorem Ipsum.\""
      ]
     },
     "execution_count": 15,
     "metadata": {},
     "output_type": "execute_result"
    }
   ],
   "source": [
    "text"
   ]
  },
  {
   "cell_type": "markdown",
   "id": "2587c4db-c10e-4597-906a-0ef03ffbf9d5",
   "metadata": {},
   "source": [
    "## Lemmatization"
   ]
  },
  {
   "cell_type": "markdown",
   "id": "5e2fdf17-3d35-4dc3-a554-29a30e03b456",
   "metadata": {},
   "source": [
    "Rule_of_Lemmatizing :- lemmatization aims to find the proper root form of a word by considering its context and part of speech"
   ]
  },
  {
   "cell_type": "code",
   "execution_count": 16,
   "id": "05a83323-30d6-42e3-be58-409930dc0eea",
   "metadata": {},
   "outputs": [
    {
     "name": "stderr",
     "output_type": "stream",
     "text": [
      "[nltk_data] Downloading package punkt to\n",
      "[nltk_data]     C:\\Users\\Keval\\AppData\\Roaming\\nltk_data...\n",
      "[nltk_data]   Package punkt is already up-to-date!\n",
      "[nltk_data] Downloading package wordnet to\n",
      "[nltk_data]     C:\\Users\\Keval\\AppData\\Roaming\\nltk_data...\n",
      "[nltk_data]   Package wordnet is already up-to-date!\n",
      "[nltk_data] Downloading package averaged_perceptron_tagger to\n",
      "[nltk_data]     C:\\Users\\Keval\\AppData\\Roaming\\nltk_data...\n",
      "[nltk_data]   Package averaged_perceptron_tagger is already up-to-\n",
      "[nltk_data]       date!\n"
     ]
    },
    {
     "data": {
      "text/plain": [
       "True"
      ]
     },
     "execution_count": 16,
     "metadata": {},
     "output_type": "execute_result"
    }
   ],
   "source": [
    "# Ensure the necessary NLTK resources are downloaded\n",
    "nltk.download('punkt')\n",
    "nltk.download('wordnet')\n",
    "nltk.download('averaged_perceptron_tagger')"
   ]
  },
  {
   "cell_type": "code",
   "execution_count": 17,
   "id": "74637c77-b211-454c-95dd-e92dd57532a9",
   "metadata": {},
   "outputs": [],
   "source": [
    "wordnet_lemmatizer = WordNetLemmatizer()"
   ]
  },
  {
   "cell_type": "code",
   "execution_count": 18,
   "id": "e13a51dd-1a24-4224-9a3e-f2c39d0de1f2",
   "metadata": {},
   "outputs": [
    {
     "data": {
      "text/plain": [
       "\"Lorem Ipsum is simply dummy text of the printing and typesetting industry. \\n        Lorem Ipsum has been the industry's standard dummy text ever since the 1500s, \\n        when an unknown printer took a galley of type and scrambled it to make a type specimen book. \\n        It has survived not only five centuries, but also the leap into electronic typesetting, remaining essentially unchanged. \\n        It was popularised in the 1960s with the release of Letraset sheets containing Lorem Ipsum passages, \\n        and more recently with desktop publishing software like Aldus PageMaker including versions of Lorem Ipsum.\""
      ]
     },
     "execution_count": 18,
     "metadata": {},
     "output_type": "execute_result"
    }
   ],
   "source": [
    "text"
   ]
  },
  {
   "cell_type": "code",
   "execution_count": 19,
   "id": "359a02da-dca8-494b-8517-f346ea535d79",
   "metadata": {},
   "outputs": [],
   "source": [
    "sentance_words = nltk.word_tokenize(text)"
   ]
  },
  {
   "cell_type": "code",
   "execution_count": 20,
   "id": "cb07c2bf-f3f2-4e2b-b874-f5141a63d20c",
   "metadata": {},
   "outputs": [
    {
     "data": {
      "text/plain": [
       "['Lorem',\n",
       " 'Ipsum',\n",
       " 'is',\n",
       " 'simply',\n",
       " 'dummy',\n",
       " 'text',\n",
       " 'of',\n",
       " 'the',\n",
       " 'printing',\n",
       " 'and',\n",
       " 'typesetting',\n",
       " 'industry',\n",
       " '.',\n",
       " 'Lorem',\n",
       " 'Ipsum',\n",
       " 'has',\n",
       " 'been',\n",
       " 'the',\n",
       " 'industry',\n",
       " \"'s\",\n",
       " 'standard',\n",
       " 'dummy',\n",
       " 'text',\n",
       " 'ever',\n",
       " 'since',\n",
       " 'the',\n",
       " '1500s',\n",
       " ',',\n",
       " 'when',\n",
       " 'an',\n",
       " 'unknown',\n",
       " 'printer',\n",
       " 'took',\n",
       " 'a',\n",
       " 'galley',\n",
       " 'of',\n",
       " 'type',\n",
       " 'and',\n",
       " 'scrambled',\n",
       " 'it',\n",
       " 'to',\n",
       " 'make',\n",
       " 'a',\n",
       " 'type',\n",
       " 'specimen',\n",
       " 'book',\n",
       " '.',\n",
       " 'It',\n",
       " 'has',\n",
       " 'survived',\n",
       " 'not',\n",
       " 'only',\n",
       " 'five',\n",
       " 'centuries',\n",
       " ',',\n",
       " 'but',\n",
       " 'also',\n",
       " 'the',\n",
       " 'leap',\n",
       " 'into',\n",
       " 'electronic',\n",
       " 'typesetting',\n",
       " ',',\n",
       " 'remaining',\n",
       " 'essentially',\n",
       " 'unchanged',\n",
       " '.',\n",
       " 'It',\n",
       " 'was',\n",
       " 'popularised',\n",
       " 'in',\n",
       " 'the',\n",
       " '1960s',\n",
       " 'with',\n",
       " 'the',\n",
       " 'release',\n",
       " 'of',\n",
       " 'Letraset',\n",
       " 'sheets',\n",
       " 'containing',\n",
       " 'Lorem',\n",
       " 'Ipsum',\n",
       " 'passages',\n",
       " ',',\n",
       " 'and',\n",
       " 'more',\n",
       " 'recently',\n",
       " 'with',\n",
       " 'desktop',\n",
       " 'publishing',\n",
       " 'software',\n",
       " 'like',\n",
       " 'Aldus',\n",
       " 'PageMaker',\n",
       " 'including',\n",
       " 'versions',\n",
       " 'of',\n",
       " 'Lorem',\n",
       " 'Ipsum',\n",
       " '.']"
      ]
     },
     "execution_count": 20,
     "metadata": {},
     "output_type": "execute_result"
    }
   ],
   "source": [
    "sentance_words"
   ]
  },
  {
   "cell_type": "markdown",
   "id": "39c20168-87d8-456a-86d1-21ca09ad1522",
   "metadata": {},
   "source": [
    "## Removing punctuations  "
   ]
  },
  {
   "cell_type": "code",
   "execution_count": 21,
   "id": "64b87877-4dc0-4f51-a502-333846897582",
   "metadata": {},
   "outputs": [],
   "source": [
    "punctuations = \"?:.,;\""
   ]
  },
  {
   "cell_type": "code",
   "execution_count": 22,
   "id": "03ecb47f-80a5-4f85-b458-4b0734e82eda",
   "metadata": {},
   "outputs": [],
   "source": [
    "for word in sentance_words:\n",
    "    if word in punctuations:\n",
    "        sentance_words.remove(word)"
   ]
  },
  {
   "cell_type": "code",
   "execution_count": 23,
   "id": "abd26d8c-cc4b-458b-a4af-ad40618e908a",
   "metadata": {},
   "outputs": [
    {
     "data": {
      "text/plain": [
       "['Lorem',\n",
       " 'Ipsum',\n",
       " 'is',\n",
       " 'simply',\n",
       " 'dummy',\n",
       " 'text',\n",
       " 'of',\n",
       " 'the',\n",
       " 'printing',\n",
       " 'and',\n",
       " 'typesetting',\n",
       " 'industry',\n",
       " 'Lorem',\n",
       " 'Ipsum',\n",
       " 'has',\n",
       " 'been',\n",
       " 'the',\n",
       " 'industry',\n",
       " \"'s\",\n",
       " 'standard',\n",
       " 'dummy',\n",
       " 'text',\n",
       " 'ever',\n",
       " 'since',\n",
       " 'the',\n",
       " '1500s',\n",
       " 'when',\n",
       " 'an',\n",
       " 'unknown',\n",
       " 'printer',\n",
       " 'took',\n",
       " 'a',\n",
       " 'galley',\n",
       " 'of',\n",
       " 'type',\n",
       " 'and',\n",
       " 'scrambled',\n",
       " 'it',\n",
       " 'to',\n",
       " 'make',\n",
       " 'a',\n",
       " 'type',\n",
       " 'specimen',\n",
       " 'book',\n",
       " 'It',\n",
       " 'has',\n",
       " 'survived',\n",
       " 'not',\n",
       " 'only',\n",
       " 'five',\n",
       " 'centuries',\n",
       " 'but',\n",
       " 'also',\n",
       " 'the',\n",
       " 'leap',\n",
       " 'into',\n",
       " 'electronic',\n",
       " 'typesetting',\n",
       " 'remaining',\n",
       " 'essentially',\n",
       " 'unchanged',\n",
       " 'It',\n",
       " 'was',\n",
       " 'popularised',\n",
       " 'in',\n",
       " 'the',\n",
       " '1960s',\n",
       " 'with',\n",
       " 'the',\n",
       " 'release',\n",
       " 'of',\n",
       " 'Letraset',\n",
       " 'sheets',\n",
       " 'containing',\n",
       " 'Lorem',\n",
       " 'Ipsum',\n",
       " 'passages',\n",
       " 'and',\n",
       " 'more',\n",
       " 'recently',\n",
       " 'with',\n",
       " 'desktop',\n",
       " 'publishing',\n",
       " 'software',\n",
       " 'like',\n",
       " 'Aldus',\n",
       " 'PageMaker',\n",
       " 'including',\n",
       " 'versions',\n",
       " 'of',\n",
       " 'Lorem',\n",
       " 'Ipsum']"
      ]
     },
     "execution_count": 23,
     "metadata": {},
     "output_type": "execute_result"
    }
   ],
   "source": [
    "sentance_words"
   ]
  },
  {
   "cell_type": "markdown",
   "id": "9917e2ad-dc1f-482e-bd54-85990e1c6648",
   "metadata": {},
   "source": [
    "## Using verb as part of speech in lemmatization"
   ]
  },
  {
   "cell_type": "code",
   "execution_count": 24,
   "id": "1cba6c40-eae8-4df2-a1d8-9bcb7863686b",
   "metadata": {},
   "outputs": [
    {
     "name": "stdout",
     "output_type": "stream",
     "text": [
      "Lorem\n",
      "Ipsum\n",
      "be\n",
      "simply\n",
      "dummy\n",
      "text\n",
      "of\n",
      "the\n",
      "print\n",
      "and\n",
      "typeset\n",
      "industry\n",
      "Lorem\n",
      "Ipsum\n",
      "have\n",
      "be\n",
      "the\n",
      "industry\n",
      "'s\n",
      "standard\n",
      "dummy\n",
      "text\n",
      "ever\n",
      "since\n",
      "the\n",
      "1500s\n",
      "when\n",
      "an\n",
      "unknown\n",
      "printer\n",
      "take\n",
      "a\n",
      "galley\n",
      "of\n",
      "type\n",
      "and\n",
      "scramble\n",
      "it\n",
      "to\n",
      "make\n",
      "a\n",
      "type\n",
      "specimen\n",
      "book\n",
      "It\n",
      "have\n",
      "survive\n",
      "not\n",
      "only\n",
      "five\n",
      "centuries\n",
      "but\n",
      "also\n",
      "the\n",
      "leap\n",
      "into\n",
      "electronic\n",
      "typeset\n",
      "remain\n",
      "essentially\n",
      "unchanged\n",
      "It\n",
      "be\n",
      "popularise\n",
      "in\n",
      "the\n",
      "1960s\n",
      "with\n",
      "the\n",
      "release\n",
      "of\n",
      "Letraset\n",
      "sheet\n",
      "contain\n",
      "Lorem\n",
      "Ipsum\n",
      "passages\n",
      "and\n",
      "more\n",
      "recently\n",
      "with\n",
      "desktop\n",
      "publish\n",
      "software\n",
      "like\n",
      "Aldus\n",
      "PageMaker\n",
      "include\n",
      "versions\n",
      "of\n",
      "Lorem\n",
      "Ipsum\n"
     ]
    }
   ],
   "source": [
    "for word in sentance_words:\n",
    "    print(wordnet_lemmatizer.lemmatize(word,pos='v'))"
   ]
  },
  {
   "cell_type": "code",
   "execution_count": null,
   "id": "6ac46891-b5b5-4018-bfc7-04037a77d275",
   "metadata": {},
   "outputs": [],
   "source": []
  }
 ],
 "metadata": {
  "kernelspec": {
   "display_name": "Python 3 (ipykernel)",
   "language": "python",
   "name": "python3"
  },
  "language_info": {
   "codemirror_mode": {
    "name": "ipython",
    "version": 3
   },
   "file_extension": ".py",
   "mimetype": "text/x-python",
   "name": "python",
   "nbconvert_exporter": "python",
   "pygments_lexer": "ipython3",
   "version": "3.11.7"
  }
 },
 "nbformat": 4,
 "nbformat_minor": 5
}
